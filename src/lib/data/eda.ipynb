{
 "cells": [
  {
   "cell_type": "code",
   "execution_count": 6,
   "metadata": {},
   "outputs": [
    {
     "name": "stdout",
     "output_type": "stream",
     "text": [
      "<class 'pandas.core.frame.DataFrame'>\n",
      "Index: 533 entries, 0 to 537\n",
      "Data columns (total 28 columns):\n",
      " #   Column                            Non-Null Count  Dtype  \n",
      "---  ------                            --------------  -----  \n",
      " 0   id                                533 non-null    int64  \n",
      " 1   sitename                          533 non-null    object \n",
      " 2   publishedtime                     533 non-null    object \n",
      " 3   url                               533 non-null    object \n",
      " 4   urlimage                          517 non-null    object \n",
      " 5   title                             533 non-null    object \n",
      " 6   alltext                           533 non-null    object \n",
      " 7   summary                           533 non-null    object \n",
      " 8   crash_id                          533 non-null    int64  \n",
      " 9   countryid                         533 non-null    object \n",
      " 10  describes_crash                   533 non-null    object \n",
      " 11  mentions_all_parties              533 non-null    float64\n",
      " 12  mentions_all_parties_explanation  533 non-null    object \n",
      " 13  uses_human_terms                  533 non-null    float64\n",
      " 14  uses_human_terms_explanation      533 non-null    object \n",
      " 15  active_voice                      533 non-null    float64\n",
      " 16  active_voice_explanation          533 non-null    object \n",
      " 17  human_centered_headline           533 non-null    object \n",
      " 18  re_mentions_all_parties           533 non-null    object \n",
      " 19  re_uses_human_terms               533 non-null    object \n",
      " 20  re_active_voice                   533 non-null    object \n",
      " 21  scraped                           533 non-null    bool   \n",
      " 22  id_crash                          533 non-null    int64  \n",
      " 23  persons                           533 non-null    object \n",
      " 24  num_unknown                       533 non-null    int64  \n",
      " 25  num_unharmed                      533 non-null    int64  \n",
      " 26  num_injured                       533 non-null    int64  \n",
      " 27  num_dead                          533 non-null    int64  \n",
      "dtypes: bool(1), float64(3), int64(7), object(17)\n",
      "memory usage: 117.1+ KB\n"
     ]
    }
   ],
   "source": [
    "import pandas as pd\n",
    "df = pd.read_csv('roaddanger_en_analysed.csv')\n",
    "df.dropna(subset=['describes_crash'], inplace=True)\n",
    "df.info()\n",
    "df.to_csv('data.csv', index=False)"
   ]
  }
 ],
 "metadata": {
  "kernelspec": {
   "display_name": "Python 3",
   "language": "python",
   "name": "python3"
  },
  "language_info": {
   "codemirror_mode": {
    "name": "ipython",
    "version": 3
   },
   "file_extension": ".py",
   "mimetype": "text/x-python",
   "name": "python",
   "nbconvert_exporter": "python",
   "pygments_lexer": "ipython3",
   "version": "3.13.2"
  }
 },
 "nbformat": 4,
 "nbformat_minor": 2
}
